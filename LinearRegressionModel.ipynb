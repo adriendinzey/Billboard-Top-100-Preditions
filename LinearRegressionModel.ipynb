{
 "cells": [
  {
   "cell_type": "code",
   "execution_count": 1,
   "id": "be4e3902",
   "metadata": {},
   "outputs": [
    {
     "ename": "ModuleNotFoundError",
     "evalue": "No module named 'pandas'",
     "output_type": "error",
     "traceback": [
      "\u001b[1;31m---------------------------------------------------------------------------\u001b[0m",
      "\u001b[1;31mModuleNotFoundError\u001b[0m                       Traceback (most recent call last)",
      "Input \u001b[1;32mIn [1]\u001b[0m, in \u001b[0;36m<module>\u001b[1;34m\u001b[0m\n\u001b[1;32m----> 1\u001b[0m \u001b[38;5;28;01mimport\u001b[39;00m \u001b[38;5;21;01mpandas\u001b[39;00m \u001b[38;5;28;01mas\u001b[39;00m \u001b[38;5;21;01mpd\u001b[39;00m\n",
      "\u001b[1;31mModuleNotFoundError\u001b[0m: No module named 'pandas'"
     ]
    }
   ],
   "source": [
    "import pandas as pd"
   ]
  },
  {
   "cell_type": "markdown",
   "id": "917c96d9",
   "metadata": {},
   "source": [
    "# Load in datasets"
   ]
  },
  {
   "cell_type": "code",
   "execution_count": null,
   "id": "e9e0f146",
   "metadata": {},
   "outputs": [],
   "source": [
    "audio_features = pd.read_csv('Data/audio_features.csv')\n",
    "billboard = pd.read_csv('Data/billboard.csv')"
   ]
  },
  {
   "cell_type": "code",
   "execution_count": null,
   "id": "bea3eaf8",
   "metadata": {},
   "outputs": [
    {
     "data": {
      "text/html": [
       "<div>\n",
       "<style scoped>\n",
       "    .dataframe tbody tr th:only-of-type {\n",
       "        vertical-align: middle;\n",
       "    }\n",
       "\n",
       "    .dataframe tbody tr th {\n",
       "        vertical-align: top;\n",
       "    }\n",
       "\n",
       "    .dataframe thead th {\n",
       "        text-align: right;\n",
       "    }\n",
       "</style>\n",
       "<table border=\"1\" class=\"dataframe\">\n",
       "  <thead>\n",
       "    <tr style=\"text-align: right;\">\n",
       "      <th></th>\n",
       "      <th>song_id</th>\n",
       "      <th>spotify_genre</th>\n",
       "      <th>spotify_track_id</th>\n",
       "      <th>spotify_track_preview_url</th>\n",
       "      <th>spotify_track_duration_ms</th>\n",
       "      <th>spotify_track_explicit</th>\n",
       "      <th>spotify_track_album</th>\n",
       "      <th>danceability</th>\n",
       "      <th>energy</th>\n",
       "      <th>key</th>\n",
       "      <th>...</th>\n",
       "      <th>spotify_track_popularity</th>\n",
       "      <th>url</th>\n",
       "      <th>week_id</th>\n",
       "      <th>week_position</th>\n",
       "      <th>instance</th>\n",
       "      <th>previous_week_position</th>\n",
       "      <th>peak_position</th>\n",
       "      <th>weeks_on_chart</th>\n",
       "      <th>performer</th>\n",
       "      <th>song</th>\n",
       "    </tr>\n",
       "  </thead>\n",
       "  <tbody>\n",
       "    <tr>\n",
       "      <th>6</th>\n",
       "      <td>......And Roses And RosesAndy Williams</td>\n",
       "      <td>['adult standards', 'brill building pop', 'eas...</td>\n",
       "      <td>3tvqPPpXyIgKrm4PR9HCf0</td>\n",
       "      <td>https://p.scdn.co/mp3-preview/cef4883cfd1e0e53...</td>\n",
       "      <td>166106.0</td>\n",
       "      <td>False</td>\n",
       "      <td>The Essential Andy Williams</td>\n",
       "      <td>0.154</td>\n",
       "      <td>0.185</td>\n",
       "      <td>5.0</td>\n",
       "      <td>...</td>\n",
       "      <td>38.0</td>\n",
       "      <td>http://www.billboard.com/charts/hot-100/1965-0...</td>\n",
       "      <td>4/3/1965</td>\n",
       "      <td>78</td>\n",
       "      <td>1</td>\n",
       "      <td>NaN</td>\n",
       "      <td>78</td>\n",
       "      <td>1</td>\n",
       "      <td>Andy Williams</td>\n",
       "      <td>......And Roses And Roses</td>\n",
       "    </tr>\n",
       "    <tr>\n",
       "      <th>7</th>\n",
       "      <td>......And Roses And RosesAndy Williams</td>\n",
       "      <td>['adult standards', 'brill building pop', 'eas...</td>\n",
       "      <td>3tvqPPpXyIgKrm4PR9HCf0</td>\n",
       "      <td>https://p.scdn.co/mp3-preview/cef4883cfd1e0e53...</td>\n",
       "      <td>166106.0</td>\n",
       "      <td>False</td>\n",
       "      <td>The Essential Andy Williams</td>\n",
       "      <td>0.154</td>\n",
       "      <td>0.185</td>\n",
       "      <td>5.0</td>\n",
       "      <td>...</td>\n",
       "      <td>38.0</td>\n",
       "      <td>http://www.billboard.com/charts/hot-100/1965-0...</td>\n",
       "      <td>4/10/1965</td>\n",
       "      <td>61</td>\n",
       "      <td>1</td>\n",
       "      <td>78.0</td>\n",
       "      <td>61</td>\n",
       "      <td>2</td>\n",
       "      <td>Andy Williams</td>\n",
       "      <td>......And Roses And Roses</td>\n",
       "    </tr>\n",
       "    <tr>\n",
       "      <th>8</th>\n",
       "      <td>......And Roses And RosesAndy Williams</td>\n",
       "      <td>['adult standards', 'brill building pop', 'eas...</td>\n",
       "      <td>3tvqPPpXyIgKrm4PR9HCf0</td>\n",
       "      <td>https://p.scdn.co/mp3-preview/cef4883cfd1e0e53...</td>\n",
       "      <td>166106.0</td>\n",
       "      <td>False</td>\n",
       "      <td>The Essential Andy Williams</td>\n",
       "      <td>0.154</td>\n",
       "      <td>0.185</td>\n",
       "      <td>5.0</td>\n",
       "      <td>...</td>\n",
       "      <td>38.0</td>\n",
       "      <td>http://www.billboard.com/charts/hot-100/1965-0...</td>\n",
       "      <td>4/17/1965</td>\n",
       "      <td>50</td>\n",
       "      <td>1</td>\n",
       "      <td>61.0</td>\n",
       "      <td>50</td>\n",
       "      <td>3</td>\n",
       "      <td>Andy Williams</td>\n",
       "      <td>......And Roses And Roses</td>\n",
       "    </tr>\n",
       "    <tr>\n",
       "      <th>9</th>\n",
       "      <td>......And Roses And RosesAndy Williams</td>\n",
       "      <td>['adult standards', 'brill building pop', 'eas...</td>\n",
       "      <td>3tvqPPpXyIgKrm4PR9HCf0</td>\n",
       "      <td>https://p.scdn.co/mp3-preview/cef4883cfd1e0e53...</td>\n",
       "      <td>166106.0</td>\n",
       "      <td>False</td>\n",
       "      <td>The Essential Andy Williams</td>\n",
       "      <td>0.154</td>\n",
       "      <td>0.185</td>\n",
       "      <td>5.0</td>\n",
       "      <td>...</td>\n",
       "      <td>38.0</td>\n",
       "      <td>http://www.billboard.com/charts/hot-100/1965-0...</td>\n",
       "      <td>5/8/1965</td>\n",
       "      <td>36</td>\n",
       "      <td>1</td>\n",
       "      <td>37.0</td>\n",
       "      <td>36</td>\n",
       "      <td>6</td>\n",
       "      <td>Andy Williams</td>\n",
       "      <td>......And Roses And Roses</td>\n",
       "    </tr>\n",
       "    <tr>\n",
       "      <th>10</th>\n",
       "      <td>......And Roses And RosesAndy Williams</td>\n",
       "      <td>['adult standards', 'brill building pop', 'eas...</td>\n",
       "      <td>3tvqPPpXyIgKrm4PR9HCf0</td>\n",
       "      <td>https://p.scdn.co/mp3-preview/cef4883cfd1e0e53...</td>\n",
       "      <td>166106.0</td>\n",
       "      <td>False</td>\n",
       "      <td>The Essential Andy Williams</td>\n",
       "      <td>0.154</td>\n",
       "      <td>0.185</td>\n",
       "      <td>5.0</td>\n",
       "      <td>...</td>\n",
       "      <td>38.0</td>\n",
       "      <td>http://www.billboard.com/charts/hot-100/1965-0...</td>\n",
       "      <td>5/1/1965</td>\n",
       "      <td>37</td>\n",
       "      <td>1</td>\n",
       "      <td>40.0</td>\n",
       "      <td>37</td>\n",
       "      <td>5</td>\n",
       "      <td>Andy Williams</td>\n",
       "      <td>......And Roses And Roses</td>\n",
       "    </tr>\n",
       "  </tbody>\n",
       "</table>\n",
       "<p>5 rows × 29 columns</p>\n",
       "</div>"
      ],
      "text/plain": [
       "                                   song_id  \\\n",
       "6   ......And Roses And RosesAndy Williams   \n",
       "7   ......And Roses And RosesAndy Williams   \n",
       "8   ......And Roses And RosesAndy Williams   \n",
       "9   ......And Roses And RosesAndy Williams   \n",
       "10  ......And Roses And RosesAndy Williams   \n",
       "\n",
       "                                        spotify_genre        spotify_track_id  \\\n",
       "6   ['adult standards', 'brill building pop', 'eas...  3tvqPPpXyIgKrm4PR9HCf0   \n",
       "7   ['adult standards', 'brill building pop', 'eas...  3tvqPPpXyIgKrm4PR9HCf0   \n",
       "8   ['adult standards', 'brill building pop', 'eas...  3tvqPPpXyIgKrm4PR9HCf0   \n",
       "9   ['adult standards', 'brill building pop', 'eas...  3tvqPPpXyIgKrm4PR9HCf0   \n",
       "10  ['adult standards', 'brill building pop', 'eas...  3tvqPPpXyIgKrm4PR9HCf0   \n",
       "\n",
       "                            spotify_track_preview_url  \\\n",
       "6   https://p.scdn.co/mp3-preview/cef4883cfd1e0e53...   \n",
       "7   https://p.scdn.co/mp3-preview/cef4883cfd1e0e53...   \n",
       "8   https://p.scdn.co/mp3-preview/cef4883cfd1e0e53...   \n",
       "9   https://p.scdn.co/mp3-preview/cef4883cfd1e0e53...   \n",
       "10  https://p.scdn.co/mp3-preview/cef4883cfd1e0e53...   \n",
       "\n",
       "    spotify_track_duration_ms spotify_track_explicit  \\\n",
       "6                    166106.0                  False   \n",
       "7                    166106.0                  False   \n",
       "8                    166106.0                  False   \n",
       "9                    166106.0                  False   \n",
       "10                   166106.0                  False   \n",
       "\n",
       "            spotify_track_album  danceability  energy  key  ...  \\\n",
       "6   The Essential Andy Williams         0.154   0.185  5.0  ...   \n",
       "7   The Essential Andy Williams         0.154   0.185  5.0  ...   \n",
       "8   The Essential Andy Williams         0.154   0.185  5.0  ...   \n",
       "9   The Essential Andy Williams         0.154   0.185  5.0  ...   \n",
       "10  The Essential Andy Williams         0.154   0.185  5.0  ...   \n",
       "\n",
       "    spotify_track_popularity  \\\n",
       "6                       38.0   \n",
       "7                       38.0   \n",
       "8                       38.0   \n",
       "9                       38.0   \n",
       "10                      38.0   \n",
       "\n",
       "                                                  url    week_id  \\\n",
       "6   http://www.billboard.com/charts/hot-100/1965-0...   4/3/1965   \n",
       "7   http://www.billboard.com/charts/hot-100/1965-0...  4/10/1965   \n",
       "8   http://www.billboard.com/charts/hot-100/1965-0...  4/17/1965   \n",
       "9   http://www.billboard.com/charts/hot-100/1965-0...   5/8/1965   \n",
       "10  http://www.billboard.com/charts/hot-100/1965-0...   5/1/1965   \n",
       "\n",
       "    week_position  instance  previous_week_position  peak_position  \\\n",
       "6              78         1                     NaN             78   \n",
       "7              61         1                    78.0             61   \n",
       "8              50         1                    61.0             50   \n",
       "9              36         1                    37.0             36   \n",
       "10             37         1                    40.0             37   \n",
       "\n",
       "    weeks_on_chart      performer                       song  \n",
       "6                1  Andy Williams  ......And Roses And Roses  \n",
       "7                2  Andy Williams  ......And Roses And Roses  \n",
       "8                3  Andy Williams  ......And Roses And Roses  \n",
       "9                6  Andy Williams  ......And Roses And Roses  \n",
       "10               5  Andy Williams  ......And Roses And Roses  \n",
       "\n",
       "[5 rows x 29 columns]"
      ]
     },
     "execution_count": 3,
     "metadata": {},
     "output_type": "execute_result"
    }
   ],
   "source": [
    "variable_columns = ['danceability', 'energy', 'valence', 'tempo']\n",
    "variable_columns = ['danceability', 'energy', 'valence', 'tempo', 'spotify_track_duration_ms', 'key']\n",
    "\n",
    "joined_data = pd.merge(audio_features, billboard, on='song_id')\n",
    "joined_data['performer'] = joined_data.performer_x\n",
    "joined_data = joined_data.drop(['performer_x', 'performer_y'], axis=1)\n",
    "joined_data['song'] = joined_data.song_x\n",
    "joined_data = joined_data.drop(['song_x', 'song_y'], axis=1)\n",
    "joined_data = joined_data.dropna(subset=variable_columns)"
   ]
  },
  {
   "cell_type": "code",
   "execution_count": null,
   "id": "f3ed5802",
   "metadata": {},
   "outputs": [],
   "source": [
    "from sklearn.model_selection import train_test_split\n",
    "from sklearn.preprocessing import StandardScaler\n",
    "\n",
    "X = joined_data[variable_columns]\n",
    "y = joined_data.week_position\n",
    "y = y <= 10\n",
    "\n",
    "x_scaler = StandardScaler().fit(X)\n",
    "X = x_scaler.transform(X)\n",
    "\n",
    "X_train, X_test, y_train, y_test = train_test_split(X, y, test_size = 0.1)"
   ]
  },
  {
   "cell_type": "code",
   "execution_count": null,
   "id": "89acf2a4",
   "metadata": {},
   "outputs": [],
   "source": [
    "from sklearn.linear_model import LinearRegression,Ridge\n",
    "\n",
    "model_noreg = LinearRegression()\n",
    "model_noreg.fit(X_train, y_train)\n",
    "\n",
    "\n",
    "y_pred_noreg = model_noreg.predict(X_test)"
   ]
  },
  {
   "cell_type": "code",
   "execution_count": null,
   "id": "de86ffc4",
   "metadata": {},
   "outputs": [
    {
     "data": {
      "text/plain": [
       "0.09453499013455129"
      ]
     },
     "execution_count": 6,
     "metadata": {},
     "output_type": "execute_result"
    }
   ],
   "source": [
    "from sklearn.metrics import brier_score_loss\n",
    "\n",
    "brier_score_loss(y_test, y_pred_noreg)"
   ]
  },
  {
   "cell_type": "code",
   "execution_count": null,
   "id": "edff1982",
   "metadata": {},
   "outputs": [
    {
     "name": "stdout",
     "output_type": "stream",
     "text": [
      "28654\n",
      "28654\n"
     ]
    }
   ],
   "source": [
    "model_reg = Ridge(alpha=1)\n",
    "model_reg.fit(X_train, y_train)\n",
    "y_pred_reg = model_reg.predict(X_test)"
   ]
  },
  {
   "cell_type": "code",
   "execution_count": null,
   "id": "dc9fe1f6",
   "metadata": {},
   "outputs": [
    {
     "data": {
      "text/plain": [
       "0.09453499017357911"
      ]
     },
     "execution_count": 13,
     "metadata": {},
     "output_type": "execute_result"
    }
   ],
   "source": [
    "brier_score_loss(y_test, y_pred_reg)"
   ]
  },
  {
   "cell_type": "code",
   "execution_count": null,
   "id": "8a878ad7",
   "metadata": {},
   "outputs": [
    {
     "ename": "AttributeError",
     "evalue": "type object 'PrecisionRecallDisplay' has no attribute 'from_estimator'",
     "output_type": "error",
     "traceback": [
      "\u001b[1;31m---------------------------------------------------------------------------\u001b[0m",
      "\u001b[1;31mAttributeError\u001b[0m                            Traceback (most recent call last)",
      "\u001b[1;32m<ipython-input-21-03db28b4bc75>\u001b[0m in \u001b[0;36m<module>\u001b[1;34m\u001b[0m\n\u001b[0;32m      1\u001b[0m \u001b[1;32mfrom\u001b[0m \u001b[0msklearn\u001b[0m\u001b[1;33m.\u001b[0m\u001b[0mmetrics\u001b[0m \u001b[1;32mimport\u001b[0m \u001b[0mPrecisionRecallDisplay\u001b[0m\u001b[1;33m\u001b[0m\u001b[1;33m\u001b[0m\u001b[0m\n\u001b[0;32m      2\u001b[0m \u001b[1;33m\u001b[0m\u001b[0m\n\u001b[1;32m----> 3\u001b[1;33m \u001b[0mPrecisionRecallDisplay\u001b[0m\u001b[1;33m.\u001b[0m\u001b[0mfrom_estimator\u001b[0m\u001b[1;33m(\u001b[0m\u001b[0mmodel_reg\u001b[0m\u001b[1;33m,\u001b[0m \u001b[0mX_test\u001b[0m\u001b[1;33m,\u001b[0m \u001b[0my_test\u001b[0m\u001b[1;33m,\u001b[0m \u001b[0mname\u001b[0m\u001b[1;33m=\u001b[0m\u001b[1;34m'Logistic Regression'\u001b[0m\u001b[1;33m)\u001b[0m\u001b[1;33m\u001b[0m\u001b[1;33m\u001b[0m\u001b[0m\n\u001b[0m\u001b[0;32m      4\u001b[0m \u001b[0mPrecisionRecallDisplay\u001b[0m\u001b[1;33m.\u001b[0m\u001b[0mfrom_estimator\u001b[0m\u001b[1;33m(\u001b[0m\u001b[0mmodel_noreg\u001b[0m\u001b[1;33m,\u001b[0m \u001b[0mX_test\u001b[0m\u001b[1;33m,\u001b[0m \u001b[0my_test\u001b[0m\u001b[1;33m,\u001b[0m \u001b[0mname\u001b[0m\u001b[1;33m=\u001b[0m\u001b[1;34m'L1 Logistic Regression'\u001b[0m\u001b[1;33m)\u001b[0m\u001b[1;33m\u001b[0m\u001b[1;33m\u001b[0m\u001b[0m\n",
      "\u001b[1;31mAttributeError\u001b[0m: type object 'PrecisionRecallDisplay' has no attribute 'from_estimator'"
     ]
    }
   ],
   "source": [
    "from sklearn.metrics import PrecisionRecallDisplay\n",
    "\n",
    "PrecisionRecallDisplay.from_estimator(model_reg, X_test, y_test, name='Logistic Regression')\n",
    "PrecisionRecallDisplay.from_estimator(model_noreg, X_test, y_test, name='L1 Logistic Regression')"
   ]
  },
  {
   "cell_type": "code",
   "execution_count": null,
   "id": "6fd5b087",
   "metadata": {},
   "outputs": [
    {
     "ename": "AttributeError",
     "evalue": "type object 'RocCurveDisplay' has no attribute 'from_estimator'",
     "output_type": "error",
     "traceback": [
      "\u001b[1;31m---------------------------------------------------------------------------\u001b[0m",
      "\u001b[1;31mAttributeError\u001b[0m                            Traceback (most recent call last)",
      "\u001b[1;32m<ipython-input-22-7486820b4ada>\u001b[0m in \u001b[0;36m<module>\u001b[1;34m\u001b[0m\n\u001b[0;32m      1\u001b[0m \u001b[1;32mfrom\u001b[0m \u001b[0msklearn\u001b[0m\u001b[1;33m.\u001b[0m\u001b[0mmetrics\u001b[0m \u001b[1;32mimport\u001b[0m \u001b[0mRocCurveDisplay\u001b[0m\u001b[1;33m\u001b[0m\u001b[1;33m\u001b[0m\u001b[0m\n\u001b[0;32m      2\u001b[0m \u001b[1;33m\u001b[0m\u001b[0m\n\u001b[1;32m----> 3\u001b[1;33m \u001b[0mRocCurveDisplay\u001b[0m\u001b[1;33m.\u001b[0m\u001b[0mfrom_estimator\u001b[0m\u001b[1;33m(\u001b[0m\u001b[0mmodel_noreg\u001b[0m\u001b[1;33m,\u001b[0m \u001b[0mX_test\u001b[0m\u001b[1;33m,\u001b[0m \u001b[0my_test\u001b[0m\u001b[1;33m,\u001b[0m \u001b[0mname\u001b[0m\u001b[1;33m=\u001b[0m\u001b[1;34m'Logistic Regression'\u001b[0m\u001b[1;33m)\u001b[0m\u001b[1;33m\u001b[0m\u001b[1;33m\u001b[0m\u001b[0m\n\u001b[0m\u001b[0;32m      4\u001b[0m \u001b[0mRocCurveDisplay\u001b[0m\u001b[1;33m.\u001b[0m\u001b[0mfrom_estimator\u001b[0m\u001b[1;33m(\u001b[0m\u001b[0mmodel_reg\u001b[0m\u001b[1;33m,\u001b[0m \u001b[0mX_test\u001b[0m\u001b[1;33m,\u001b[0m \u001b[0my_test\u001b[0m\u001b[1;33m,\u001b[0m \u001b[0mname\u001b[0m\u001b[1;33m=\u001b[0m\u001b[1;34m'L1 Logistic Regression'\u001b[0m\u001b[1;33m)\u001b[0m\u001b[1;33m\u001b[0m\u001b[1;33m\u001b[0m\u001b[0m\n",
      "\u001b[1;31mAttributeError\u001b[0m: type object 'RocCurveDisplay' has no attribute 'from_estimator'"
     ]
    }
   ],
   "source": [
    "from sklearn.metrics import RocCurveDisplay\n",
    "\n",
    "RocCurveDisplay.from_estimator(model_noreg, X_test, y_test, name='Logistic Regression')\n",
    "RocCurveDisplay.from_estimator(model_reg, X_test, y_test, name='L1 Logistic Regression')"
   ]
  },
  {
   "cell_type": "code",
   "execution_count": null,
   "id": "35db4bb0",
   "metadata": {},
   "outputs": [],
   "source": []
  }
 ],
 "metadata": {
  "kernelspec": {
   "display_name": "Python 3",
   "language": "python",
   "name": "python3"
  },
  "language_info": {
   "codemirror_mode": {
    "name": "ipython",
    "version": 3
   },
   "file_extension": ".py",
   "mimetype": "text/x-python",
   "name": "python",
   "nbconvert_exporter": "python",
   "pygments_lexer": "ipython3",
   "version": "3.10.1"
  }
 },
 "nbformat": 4,
 "nbformat_minor": 5
}
